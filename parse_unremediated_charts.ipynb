{
 "cells": [
  {
   "cell_type": "code",
   "execution_count": 1,
   "id": "61a619ac-8f43-47cc-9879-fa7d40ae0641",
   "metadata": {},
   "outputs": [],
   "source": [
    "import os\n",
    "import pandas as pd\n",
    "import tarfile\n",
    "import yaml\n",
    "import json"
   ]
  },
  {
   "cell_type": "code",
   "execution_count": 2,
   "id": "8751742c-f516-45cb-8bd2-5a45b3959dc2",
   "metadata": {},
   "outputs": [],
   "source": [
    "remediated_charts_dir = \"RemediatedCharts\"\n",
    "subdirectory = \"12factor\"\n",
    "file_path = remediated_charts_dir + \"/\" + subdirectory + \"/values.yaml\""
   ]
  },
  {
   "cell_type": "code",
   "execution_count": 5,
   "id": "5f98ab98-a15b-4c00-8707-ef0acd3cab24",
   "metadata": {},
   "outputs": [
    {
     "name": "stdout",
     "output_type": "stream",
     "text": [
      "{'nameOverride': '', 'fullnameOverride': '', 'image': {'repository': 'nginx', 'tag': '', 'pullPolicy': 'IfNotPresent'}, 'imagePullSecrets': [], 'serviceAccount': {'create': True, 'annotations': {}, 'name': ''}, 'hooks': [], 'deployment': {'replicaCount': 1, 'autoscaling': {'enabled': False, 'minReplicas': 1, 'maxReplicas': 100, 'targetCPUUtilizationPercentage': None, 'targetMemoryUtilizationPercentage': None, 'metrics': []}, 'annotations': {}, 'imagePullSecrets': [], 'volumes': [], 'application': {'securityContext': {}, 'env': None, 'envFrom': [], 'volumeMounts': [], 'command': [], 'args': [], 'ports': [], 'checks': {'startup': {}, 'liveness': {}, 'readiness': {}}, 'resources': {}}, 'sidecars': [], 'tasks': [], 'nodeSelector': {}, 'tolerations': [], 'affinity': {}, 'topologySpreadConstraints': []}, 'networking': {'service': {'annotations': {}, 'type': 'ClusterIP', 'clusterIP': '', 'ports': []}, 'ingress': {'enabled': False, 'className': '', 'annotations': {}, 'portName': 'http', 'hosts': [{'host': 'chart-example.local', 'paths': [{'path': '/', 'pathType': 'ImplementationSpecific', 'portName': ''}]}], 'tls': []}}, 'metrics': {'enabled': False, 'endpoints': [{'portName': 'metrics', 'podMonitor': {}}]}}\n"
     ]
    }
   ],
   "source": [
    "#Load values.yaml file\n",
    "def load_yaml(file_path):\n",
    "    with open(file_path, 'r') as file:\n",
    "        data = yaml.safe_load(file)\n",
    "    return data\n",
    "\n",
    "data = load_yaml(file_path)\n",
    "print(data)"
   ]
  },
  {
   "cell_type": "code",
   "execution_count": 26,
   "id": "7b675461-5926-43eb-850f-8cd6590b8b28",
   "metadata": {},
   "outputs": [
    {
     "name": "stdout",
     "output_type": "stream",
     "text": [
      "{}\n"
     ]
    }
   ],
   "source": [
    "#security_context_vals = next(find_nested_key(data,'securityContext'))\n",
    "#print(security_context_vals)"
   ]
  },
  {
   "cell_type": "code",
   "execution_count": 17,
   "id": "e693c19f",
   "metadata": {},
   "outputs": [],
   "source": [
    "def find_nested_key(data, key_to_find, parent_key=None):\n",
    "    if isinstance(data, dict):\n",
    "        for key, value in data.items():\n",
    "            if key == key_to_find:\n",
    "                yield parent_key, key, value\n",
    "            elif isinstance(value, (dict, list)):\n",
    "                yield from find_nested_key(value, key_to_find, key)\n",
    "    elif isinstance(data, list):\n",
    "        for item in data:\n",
    "            yield from find_nested_key(item, key_to_find, parent_key)\n"
   ]
  },
  {
   "cell_type": "code",
   "execution_count": 18,
   "id": "3d0ab286-71de-4a50-b017-34add7474527",
   "metadata": {
    "collapsed": true,
    "jupyter": {
     "outputs_hidden": true
    },
    "scrolled": true
   },
   "outputs": [
    {
     "name": "stdout",
     "output_type": "stream",
     "text": [
      "{'securityContext': {'allowPrivilegeEscalation': False, 'capabilities': {'drop': ['ALL'], 'add': []}, 'runAsNonRoot': True, 'readOnlyRootFilesystem': True, 'runAsUser': 10001, 'runAsGroup': 10001, 'seLinuxOptions': None, 'seccompProfile': {'type': 'RuntimeDefault'}}, 'resources': {'limits': {'cpu': '500m', 'memory': '1Gi'}, 'requests': {'cpu': '200m', 'memory': '512Mi'}}, 'hostNetwork': False, 'hostPID': False, 'hostIPC': False, 'volumes': [{'hostPath': None}], 'externalIPs': None, 'podAnnotations': {'container.apparmor.security.beta.kubernetes.io': 'runtime/default'}, 'rules': {'resources': [], 'verbs': ['list', 'watch', 'get']}, 'serviceAccount': {'anonymous-auth': False}, 'clusterRole': {'secrets': False, 'wildcard': False}, 'image': {'pullPolicy': 'IfNotPresent', 'tag': '1.0.0'}}\n",
      "All securityContext values found:\n",
      "1: (None, 'securityContext', {'allowPrivilegeEscalation': False, 'capabilities': {'drop': ['ALL'], 'add': []}, 'runAsNonRoot': True, 'readOnlyRootFilesystem': True, 'runAsUser': 10001, 'runAsGroup': 10001, 'seLinuxOptions': None, 'seccompProfile': {'type': 'RuntimeDefault'}})\n"
     ]
    }
   ],
   "source": [
    "with open('nested_resolutions.json', 'r') as f:\n",
    "    remediation_file = json.load(f)\n",
    "\n",
    "print(remediation_file)\n",
    "security_context_vals = list(find_nested_key(remediation_file, 'securityContext'))\n",
    "\n",
    "print(\"All securityContext values found:\")\n",
    "for idx, sc in enumerate(security_context_vals, 1):\n",
    "    print(f\"{idx}: {sc}\")"
   ]
  },
  {
   "cell_type": "code",
   "execution_count": 19,
   "id": "a6fc68af",
   "metadata": {},
   "outputs": [],
   "source": [
    "# Identify the sections we're interested in (e.g., SecurityContext, Resources)\n",
    "def identify_sections(remediation_file):\n",
    "    sections = {\n",
    "        \"SecurityContext\": list(find_nested_key(remediation_file, \"securityContext\")),\n",
    "        \"Resources\": list(find_nested_key(remediation_file, \"resources\")),\n",
    "        \"PodAnnotations\": list(find_nested_key(remediation_file, \"podAnnotations\")),\n",
    "        \"Volumes\": list(find_nested_key(remediation_file, \"volumes\")),\n",
    "        \"ExternalIPs\": list(find_nested_key(remediation_file, \"externalIPs\")),\n",
    "        \"ServiceAccount\": list(find_nested_key(remediation_file, \"serviceAccount\")),\n",
    "        \"ClusterRole\": list(find_nested_key(remediation_file, \"clusterRole\")),\n",
    "        \"Rules\": list(find_nested_key(remediation_file, \"rules\")),\n",
    "        \"Image\": list(find_nested_key(remediation_file, \"image\")),\n",
    "        \"HostSettings\": [\n",
    "            *list(find_nested_key(remediation_file, \"hostNetwork\")),\n",
    "            *list(find_nested_key(remediation_file, \"hostPID\")),\n",
    "            *list(find_nested_key(remediation_file, \"hostIPC\")),\n",
    "        ],\n",
    "    }\n",
    "    return sections\n",
    "\n",
    "# Print selected sections\n",
    "def print_sections(remediation_file):\n",
    "    sections = identify_sections(remediation_file)\n",
    "    print(\"Identified Sections:\")\n",
    "    for section, occurrences in sections.items():\n",
    "        print(f\"\\nSection: {section}\")\n",
    "        if occurrences:\n",
    "            for occurrence in occurrences:\n",
    "                print(f\"- {occurrence}\")\n",
    "        else:\n",
    "            print(\"No occurrences found.\")"
   ]
  },
  {
   "cell_type": "code",
   "execution_count": 20,
   "id": "3ed31a94",
   "metadata": {},
   "outputs": [],
   "source": [
    "# Identify the sections we're interested in (e.g., SecurityContext, Resources)\n",
    "def identify_sections(data):\n",
    "    sections = {\n",
    "        \"SecurityContext\": list(find_nested_key(data, \"securityContext\")),\n",
    "        \"Resources\": list(find_nested_key(data, \"resources\")),\n",
    "        \"PodAnnotations\": list(find_nested_key(data, \"podAnnotations\")),\n",
    "        \"Volumes\": list(find_nested_key(data, \"volumes\")),\n",
    "        \"ExternalIPs\": list(find_nested_key(data, \"externalIPs\")),\n",
    "        \"ServiceAccount\": list(find_nested_key(data, \"serviceAccount\")),\n",
    "        \"ClusterRole\": list(find_nested_key(data, \"clusterRole\")),\n",
    "        \"Rules\": list(find_nested_key(data, \"rules\")),\n",
    "        \"Image\": list(find_nested_key(data, \"image\")),\n",
    "        \"HostSettings\": [\n",
    "            *list(find_nested_key(data, \"hostNetwork\")),\n",
    "            *list(find_nested_key(data, \"hostPID\")),\n",
    "            *list(find_nested_key(data, \"hostIPC\")),\n",
    "        ],\n",
    "    }\n",
    "    return sections\n",
    "\n",
    "# Print selected sections\n",
    "def print_sections(data):\n",
    "    sections = identify_sections(data)\n",
    "    print(\"Identified Sections:\")\n",
    "    for section, occurrences in sections.items():\n",
    "        print(f\"\\nSection: {section}\")\n",
    "        if occurrences:\n",
    "            for occurrence in occurrences:\n",
    "                print(f\"- {occurrence}\")\n",
    "        else:\n",
    "            print(\"No occurrences found.\")"
   ]
  },
  {
   "cell_type": "code",
   "execution_count": 21,
   "id": "2f53230c",
   "metadata": {},
   "outputs": [
    {
     "name": "stdout",
     "output_type": "stream",
     "text": [
      "Identified Sections:\n",
      "\n",
      "Section: SecurityContext\n",
      "- ('application', 'securityContext', {})\n",
      "\n",
      "Section: Resources\n",
      "- ('application', 'resources', {})\n",
      "\n",
      "Section: PodAnnotations\n",
      "No occurrences found.\n",
      "\n",
      "Section: Volumes\n",
      "- ('deployment', 'volumes', [])\n",
      "\n",
      "Section: ExternalIPs\n",
      "No occurrences found.\n",
      "\n",
      "Section: ServiceAccount\n",
      "- (None, 'serviceAccount', {'create': True, 'annotations': {}, 'name': ''})\n",
      "\n",
      "Section: ClusterRole\n",
      "No occurrences found.\n",
      "\n",
      "Section: Rules\n",
      "No occurrences found.\n",
      "\n",
      "Section: Image\n",
      "- (None, 'image', {'repository': 'nginx', 'tag': '', 'pullPolicy': 'IfNotPresent'})\n",
      "\n",
      "Section: HostSettings\n",
      "No occurrences found.\n"
     ]
    }
   ],
   "source": [
    "print_sections(data)"
   ]
  },
  {
   "cell_type": "code",
   "execution_count": 22,
   "id": "facec6f3",
   "metadata": {},
   "outputs": [
    {
     "name": "stdout",
     "output_type": "stream",
     "text": [
      "Identified Sections:\n",
      "\n",
      "Section: SecurityContext\n",
      "- (None, 'securityContext', {'allowPrivilegeEscalation': False, 'capabilities': {'drop': ['ALL'], 'add': []}, 'runAsNonRoot': True, 'readOnlyRootFilesystem': True, 'runAsUser': 10001, 'runAsGroup': 10001, 'seLinuxOptions': None, 'seccompProfile': {'type': 'RuntimeDefault'}})\n",
      "\n",
      "Section: Resources\n",
      "- (None, 'resources', {'limits': {'cpu': '500m', 'memory': '1Gi'}, 'requests': {'cpu': '200m', 'memory': '512Mi'}})\n",
      "- ('rules', 'resources', [])\n",
      "\n",
      "Section: PodAnnotations\n",
      "- (None, 'podAnnotations', {'container.apparmor.security.beta.kubernetes.io': 'runtime/default'})\n",
      "\n",
      "Section: Volumes\n",
      "- (None, 'volumes', [{'hostPath': None}])\n",
      "\n",
      "Section: ExternalIPs\n",
      "- (None, 'externalIPs', None)\n",
      "\n",
      "Section: ServiceAccount\n",
      "- (None, 'serviceAccount', {'anonymous-auth': False})\n",
      "\n",
      "Section: ClusterRole\n",
      "- (None, 'clusterRole', {'secrets': False, 'wildcard': False})\n",
      "\n",
      "Section: Rules\n",
      "- (None, 'rules', {'resources': [], 'verbs': ['list', 'watch', 'get']})\n",
      "\n",
      "Section: Image\n",
      "- (None, 'image', {'pullPolicy': 'IfNotPresent', 'tag': '1.0.0'})\n",
      "\n",
      "Section: HostSettings\n",
      "- (None, 'hostNetwork', False)\n",
      "- (None, 'hostPID', False)\n",
      "- (None, 'hostIPC', False)\n"
     ]
    }
   ],
   "source": [
    "print_sections(remediation_file)"
   ]
  },
  {
   "cell_type": "code",
   "execution_count": 24,
   "id": "1706c530",
   "metadata": {},
   "outputs": [],
   "source": [
    "# Save updated YAML file\n",
    "def save_yaml(file_path, data):\n",
    "    with open(file_path, \"w\") as file:\n",
    "        yaml.safe_dump(data, file)"
   ]
  },
  {
   "cell_type": "code",
   "execution_count": 25,
   "id": "d4496ad5-0333-4968-9f19-a87c5cc6273b",
   "metadata": {},
   "outputs": [
    {
     "name": "stdout",
     "output_type": "stream",
     "text": [
      "\n",
      "Original Data Sections:\n",
      "Identified Sections:\n",
      "\n",
      "Section: SecurityContext\n",
      "- ('application', 'securityContext', {})\n",
      "\n",
      "Section: Resources\n",
      "- ('application', 'resources', {})\n",
      "\n",
      "Section: PodAnnotations\n",
      "No occurrences found.\n",
      "\n",
      "Section: Volumes\n",
      "- ('deployment', 'volumes', [])\n",
      "\n",
      "Section: ExternalIPs\n",
      "No occurrences found.\n",
      "\n",
      "Section: ServiceAccount\n",
      "- (None, 'serviceAccount', {'create': True, 'annotations': {}, 'name': ''})\n",
      "\n",
      "Section: ClusterRole\n",
      "No occurrences found.\n",
      "\n",
      "Section: Rules\n",
      "No occurrences found.\n",
      "\n",
      "Section: Image\n",
      "- (None, 'image', {'repository': 'nginx', 'tag': '', 'pullPolicy': 'IfNotPresent'})\n",
      "\n",
      "Section: HostSettings\n",
      "No occurrences found.\n",
      "\n",
      "Remediation Sections:\n",
      "Identified Sections:\n",
      "\n",
      "Section: SecurityContext\n",
      "- (None, 'securityContext', {'allowPrivilegeEscalation': False, 'capabilities': {'drop': ['ALL'], 'add': []}, 'runAsNonRoot': True, 'readOnlyRootFilesystem': True, 'runAsUser': 10001, 'runAsGroup': 10001, 'seLinuxOptions': None, 'seccompProfile': {'type': 'RuntimeDefault'}})\n",
      "\n",
      "Section: Resources\n",
      "- (None, 'resources', {'limits': {'cpu': '500m', 'memory': '1Gi'}, 'requests': {'cpu': '200m', 'memory': '512Mi'}})\n",
      "- ('rules', 'resources', [])\n",
      "\n",
      "Section: PodAnnotations\n",
      "- (None, 'podAnnotations', {'container.apparmor.security.beta.kubernetes.io': 'runtime/default'})\n",
      "\n",
      "Section: Volumes\n",
      "- (None, 'volumes', [{'hostPath': None}])\n",
      "\n",
      "Section: ExternalIPs\n",
      "- (None, 'externalIPs', None)\n",
      "\n",
      "Section: ServiceAccount\n",
      "- (None, 'serviceAccount', {'anonymous-auth': False})\n",
      "\n",
      "Section: ClusterRole\n",
      "- (None, 'clusterRole', {'secrets': False, 'wildcard': False})\n",
      "\n",
      "Section: Rules\n",
      "- (None, 'rules', {'resources': [], 'verbs': ['list', 'watch', 'get']})\n",
      "\n",
      "Section: Image\n",
      "- (None, 'image', {'pullPolicy': 'IfNotPresent', 'tag': '1.0.0'})\n",
      "\n",
      "Section: HostSettings\n",
      "- (None, 'hostNetwork', False)\n",
      "- (None, 'hostPID', False)\n",
      "- (None, 'hostIPC', False)\n",
      "Updating serviceAccount in section ServiceAccount with remediation value.\n",
      "Updating image in section Image with remediation value.\n",
      "\n",
      "Updated values.yaml file saved to: RemediatedCharts/12factor/updated_values.yaml\n"
     ]
    }
   ],
   "source": [
    "def overwrite_sections(data, remediation_file):\n",
    "    remediation_sections = identify_sections(remediation_file)\n",
    "    \n",
    "    # Iterate through all sections and overwrite data\n",
    "    for section, remediation_values in remediation_sections.items():\n",
    "        if remediation_values:\n",
    "            for parent_key, key, remediation_value in remediation_values:\n",
    "                # Update the corresponding key in the original data\n",
    "                if parent_key and parent_key in data:\n",
    "                    print(f\"Updating {key} in section {section} under {parent_key} with remediation value.\")\n",
    "                    data[parent_key][key] = remediation_value\n",
    "                elif key in data:\n",
    "                    print(f\"Updating {key} in section {section} with remediation value.\")\n",
    "                    data[key] = remediation_value\n",
    "    return data\n",
    "\n",
    "\n",
    "# Main processing\n",
    "data = load_yaml(file_path)\n",
    "with open(\"nested_resolutions.json\", \"r\") as f:\n",
    "    remediation_file = json.load(f)\n",
    "\n",
    "print(\"\\nOriginal Data Sections:\")\n",
    "print_sections(data)\n",
    "\n",
    "print(\"\\nRemediation Sections:\")\n",
    "print_sections(remediation_file)\n",
    "\n",
    "# Overwrite sections\n",
    "updated_data = overwrite_sections(data, remediation_file)\n",
    "\n",
    "# Save the updated YAML file\n",
    "updated_file_path = f\"{remediated_charts_dir}/{subdirectory}/updated_values.yaml\"\n",
    "save_yaml(updated_file_path, updated_data)\n",
    "print(f\"\\nUpdated values.yaml file saved to: {updated_file_path}\")"
   ]
  }
 ],
 "metadata": {
  "kernelspec": {
   "display_name": "base",
   "language": "python",
   "name": "python3"
  },
  "language_info": {
   "codemirror_mode": {
    "name": "ipython",
    "version": 3
   },
   "file_extension": ".py",
   "mimetype": "text/x-python",
   "name": "python",
   "nbconvert_exporter": "python",
   "pygments_lexer": "ipython3",
   "version": "3.11.7"
  }
 },
 "nbformat": 4,
 "nbformat_minor": 5
}
