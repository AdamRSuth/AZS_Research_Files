{
 "cells": [
  {
   "cell_type": "code",
   "execution_count": 1,
   "id": "61a619ac-8f43-47cc-9879-fa7d40ae0641",
   "metadata": {},
   "outputs": [],
   "source": [
    "import os\n",
    "import pandas as pd\n",
    "import tarfile\n",
    "# import pqdm"
   ]
  },
  {
   "cell_type": "code",
   "execution_count": 2,
   "id": "8751742c-f516-45cb-8bd2-5a45b3959dc2",
   "metadata": {},
   "outputs": [],
   "source": [
    "# df = pd.read_csv('filtered_trivy_output.csv')\n",
    "repo_files_dir = \"HelmCharts\"\n",
    "remediated_repo_files_dir = \"RemediatedCharts\""
   ]
  },
  {
   "cell_type": "code",
   "execution_count": 6,
   "id": "971da35f-14ad-4054-8e14-00aabeba7f37",
   "metadata": {},
   "outputs": [],
   "source": [
    "with open('success.txt','r') as file:\n",
    "    successful_repos = [line.rstrip() for line in file]"
   ]
  },
  {
   "cell_type": "code",
   "execution_count": null,
   "id": "fdad6553-d5cf-48f1-b500-8729bbb356f8",
   "metadata": {},
   "outputs": [],
   "source": [
    "# Unzip the tgz files"
   ]
  },
  {
   "cell_type": "code",
   "execution_count": 34,
   "id": "e44cda38-0734-4804-b3a6-295d26b1fd84",
   "metadata": {},
   "outputs": [],
   "source": [
    "def extract_and_rename(tgz_path):\n",
    "    \n",
    "    tgz_name = os.path.basename(tgz_path)\n",
    "    sub_directory_name = '-'.join(tgz_name.split('-')[:-1])\n",
    "    full_tgz_path = repo_files_dir+\"/\"+ tgz_path\n",
    "    \n",
    "    with tarfile.open(full_tgz_path, \"r:gz\") as tar:\n",
    "        tar.extractall(path=remediated_repo_files_dir)\n",
    "    \n",
    "    extracted_directory_path = remediated_repo_files_dir + '/' + sub_directory_name    \n",
    "    values_yaml_path = os.path.join(extracted_directory_path, \"values.yaml\")\n",
    "\n",
    "    return values_yaml_path"
   ]
  },
  {
   "cell_type": "code",
   "execution_count": 37,
   "id": "0412e0cc-3baf-439b-a521-005b6a7759af",
   "metadata": {},
   "outputs": [],
   "source": [
    "# List to store the directories that need to be deleted at the end\n",
    "directories_to_delete = []\n",
    "final_yaml_file_locations = []\n",
    "# Add progress bar with tqdm\n",
    "total_files = len(successful_repos)\n",
    "\n",
    "for row in successful_repos:\n",
    "    tgz_path = row\n",
    "    tgz_path_extracted = tgz_path\n",
    "    extraction_dir = extract_and_rename(tgz_path)\n",
    "    if extraction_dir:\n",
    "        final_yaml_file_locations.append(extraction_dir)\n",
    "        original_path = repo_files_dir+'/'+tgz_path\n",
    "        directories_to_delete.append(original_path)"
   ]
  },
  {
   "cell_type": "code",
   "execution_count": null,
   "id": "3e5b6f89-2c3c-4706-80e3-c13d51a6964d",
   "metadata": {},
   "outputs": [],
   "source": [
    "# After processing all files, delete all extracted directories\n",
    "# logging.info(\"Deleting all extracted directories...\")\n",
    "# for directory in directories_to_delete:\n",
    "#     if os.path.exists(directory):\n",
    "#         delete_directory_manually(directory)\n",
    "#     else:\n",
    "#         logging.warning(f\"Directory {directory} does not exist or has already been deleted.\")"
   ]
  },
  {
   "cell_type": "code",
   "execution_count": 40,
   "id": "39bd8915-7d62-40ce-ab7c-2a6c4509d2c2",
   "metadata": {},
   "outputs": [],
   "source": [
    "# List to store the directories that need to be deleted at the end\n",
    "# directories_to_delete = []\n",
    "\n",
    "# # Add progress bar with tqdm\n",
    "# total_files = len(df_unique)\n",
    "# with tqdm(total=total_files, desc=\"Processing files\", unit=\"file\") as pbar:\n",
    "#     # Iterate over each unique row in the DataFrame\n",
    "#     for index, row in df_unique.iterrows():\n",
    "#         # Split the Target column to get the tgz path\n",
    "#         target_value = row['Target']\n",
    "#         tgz_path = target_value.split(\":\")[0]  # Get the tgz part before the colon\n",
    "\n",
    "#         # Process the tgz file and collect the directory to delete later\n",
    "#         extraction_dir = extract_and_rename(tgz_path)\n",
    "#         if extraction_dir:\n",
    "#             directories_to_delete.append(extraction_dir)\n",
    "\n",
    "#         # Update progress bar after each file\n",
    "#         pbar.update(1)\n",
    "\n",
    "# # After processing all files, delete all extracted directories\n",
    "# logging.info(\"Deleting all extracted directories...\")\n",
    "# for directory in directories_to_delete:\n",
    "#     if os.path.exists(directory):\n",
    "#         delete_directory_manually(directory)\n",
    "#     else:\n",
    "#         logging.warning(f\"Directory {directory} does not exist or has already been deleted.\")"
   ]
  },
  {
   "cell_type": "code",
   "execution_count": null,
   "id": "234a2299-e6a8-40cb-a73a-e6668fe725e0",
   "metadata": {},
   "outputs": [],
   "source": []
  }
 ],
 "metadata": {
  "kernelspec": {
   "display_name": "Python 3 (ipykernel)",
   "language": "python",
   "name": "python3"
  },
  "language_info": {
   "codemirror_mode": {
    "name": "ipython",
    "version": 3
   },
   "file_extension": ".py",
   "mimetype": "text/x-python",
   "name": "python",
   "nbconvert_exporter": "python",
   "pygments_lexer": "ipython3",
   "version": "3.9.6"
  }
 },
 "nbformat": 4,
 "nbformat_minor": 5
}
