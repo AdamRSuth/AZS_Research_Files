{
 "cells": [
  {
   "cell_type": "code",
   "execution_count": 1,
   "id": "61a619ac-8f43-47cc-9879-fa7d40ae0641",
   "metadata": {},
   "outputs": [],
   "source": [
    "import os\n",
    "import pandas as pd\n",
    "import tarfile\n",
    "import yaml\n",
    "import json\n",
    "import copy"
   ]
  },
  {
   "cell_type": "code",
   "execution_count": 2,
   "id": "8751742c-f516-45cb-8bd2-5a45b3959dc2",
   "metadata": {},
   "outputs": [],
   "source": [
    "remediated_charts_dir = \"Remediated_Charts\"\n",
    "subdirectory = \"12factor\"\n",
    "file_path = remediated_charts_dir + \"/\" + subdirectory + \"/values.yaml\""
   ]
  },
  {
   "cell_type": "code",
   "execution_count": 110,
   "id": "5f98ab98-a15b-4c00-8707-ef0acd3cab24",
   "metadata": {},
   "outputs": [],
   "source": [
    "#Load values.yaml file\n",
    "def load_yaml(file_path):\n",
    "    with open(file_path, 'r') as file:\n",
    "        data = yaml.safe_load(file)\n",
    "    return data\n",
    "\n",
    "data = load_yaml(file_path)"
   ]
  },
  {
   "cell_type": "code",
   "execution_count": 11,
   "id": "1706c530",
   "metadata": {},
   "outputs": [],
   "source": [
    "# Save updated YAML file\n",
    "def save_yaml(file_path, data):\n",
    "    with open(file_path, \"w\") as file:\n",
    "        yaml.safe_dump(data, file)"
   ]
  },
  {
   "cell_type": "code",
   "execution_count": 98,
   "id": "3248880b-99c7-4e23-a6ec-0c9eba1dbdfc",
   "metadata": {},
   "outputs": [],
   "source": [
    "def replace_value(data, k, v):\n",
    "    for key in data.keys():\n",
    "        if key == k:\n",
    "            data[key] = v\n",
    "        elif type(data[key]) is dict:\n",
    "            replace_value(data[key], k, v)"
   ]
  },
  {
   "cell_type": "code",
   "execution_count": 95,
   "id": "a8071efe-e0a1-4dfe-9c03-59641e2aebbd",
   "metadata": {},
   "outputs": [],
   "source": [
    "#Open the remediation file and isolate the needed keys\n",
    "with open(\"nested_resolutions.json\", \"r\") as f:\n",
    "    remediation_file = json.load(f)\n",
    "\n",
    "keys_to_remediate = ['securityContext','resources','podAnnotations','volumes','externalIPs','serviceAccount',\n",
    " 'clusterRole','rules','image','hostNetwork','hostPID','hostIPC']\n",
    "\n",
    "remediation_dict = {k:v for k, v in remediation_file.items() if k in keys_to_remediate}"
   ]
  },
  {
   "cell_type": "code",
   "execution_count": 103,
   "id": "74e2b2df-0807-4c73-b57b-67ee6e370d10",
   "metadata": {},
   "outputs": [],
   "source": [
    "# Main processing\n",
    "data = load_yaml(file_path)"
   ]
  },
  {
   "cell_type": "code",
   "execution_count": 104,
   "id": "cbcb003f-138b-4b36-a107-0bae7a5e45e9",
   "metadata": {},
   "outputs": [],
   "source": [
    "updated_data = copy.deepcopy(data)"
   ]
  },
  {
   "cell_type": "code",
   "execution_count": 106,
   "id": "cccd44a1-17e8-491c-b9e0-6f0f8786e8e6",
   "metadata": {},
   "outputs": [],
   "source": [
    "for k in remediation_dict:\n",
    "    replace_value(updated_data, k, remediation_dict[k])"
   ]
  },
  {
   "cell_type": "code",
   "execution_count": 109,
   "id": "a096b823-29ff-4557-a7af-d94aa7481c28",
   "metadata": {},
   "outputs": [
    {
     "name": "stdout",
     "output_type": "stream",
     "text": [
      "\n",
      "Updated values.yaml file saved to: Remediated_Charts/12factor/updated_values.yaml\n"
     ]
    }
   ],
   "source": [
    "# Save the updated YAML file\n",
    "updated_file_path = f\"{remediated_charts_dir}/{subdirectory}/updated_values.yaml\"\n",
    "save_yaml(updated_file_path, updated_data)\n",
    "print(f\"\\nUpdated values.yaml file saved to: {updated_file_path}\")"
   ]
  }
 ],
 "metadata": {
  "kernelspec": {
   "display_name": "Python 3 (ipykernel)",
   "language": "python",
   "name": "python3"
  },
  "language_info": {
   "codemirror_mode": {
    "name": "ipython",
    "version": 3
   },
   "file_extension": ".py",
   "mimetype": "text/x-python",
   "name": "python",
   "nbconvert_exporter": "python",
   "pygments_lexer": "ipython3",
   "version": "3.9.6"
  }
 },
 "nbformat": 4,
 "nbformat_minor": 5
}
